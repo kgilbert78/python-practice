{
 "cells": [
  {
   "cell_type": "code",
   "execution_count": null,
   "metadata": {},
   "outputs": [],
   "source": [
    "import pandas as pd # https://pandas.pydata.org/docs/\n",
    "import requests # https://docs.python-requests.org/en/latest/\n",
    "import json # https://docs.python.org/3.9/library/json.html\n",
    "import folium # http://python-visualization.github.io/folium/\n",
    "import os # https://docs.python.org/3.9/library/os.html\n",
    "\n",
    "os.chdir(\"C:/Users/kgilb/PycharmProjects/python-practice/python-practice/python-virtual-environments/wimlds/\")\n",
    "\n",
    "data = pd.read_csv(\"data/Water_Main_Breaks.csv\")\n",
    "data.head()\n",
    "\n",
    "# run with command: jupyter notebook"
   ]
  }
 ],
 "metadata": {
  "language_info": {
   "name": "python"
  },
  "orig_nbformat": 4
 },
 "nbformat": 4,
 "nbformat_minor": 2
}
